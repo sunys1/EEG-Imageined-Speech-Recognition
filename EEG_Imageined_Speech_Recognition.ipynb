{
  "nbformat": 4,
  "nbformat_minor": 0,
  "metadata": {
    "colab": {
      "provenance": [],
      "machine_shape": "hm"
    },
    "kernelspec": {
      "name": "python3",
      "display_name": "Python 3"
    },
    "language_info": {
      "name": "python"
    }
  },
  "cells": [
    {
      "cell_type": "code",
      "source": [
        "# Code for permanent library installation & import\n",
        "from google.colab import drive\n",
        "import sys\n",
        "import os\n",
        "drive.mount(\"/content/drive\", force_remount=True)"
      ],
      "metadata": {
        "id": "knuVzImKPtBC",
        "colab": {
          "base_uri": "https://localhost:8080/"
        },
        "outputId": "ceaaa9de-fbc7-40d4-b027-6e5d1c4936e2"
      },
      "execution_count": 9,
      "outputs": [
        {
          "output_type": "stream",
          "name": "stdout",
          "text": [
            "Mounted at /content/drive\n"
          ]
        }
      ]
    },
    {
      "cell_type": "code",
      "source": [
        "paths = [\n",
        "    '/content/drive/MyDrive/Colab_env/lib/python3.10/site-packages',\n",
        "    '/content/drive/MyDrive/Colab_env/benchmarks/speechbrain'\n",
        "]\n",
        "\n",
        "# Get the current PYTHONPATH\n",
        "current_pythonpath = os.environ.get('PYTHONPATH', '')\n",
        "\n",
        "# Create a new PYTHONPATH including your custom paths\n",
        "new_pythonpath = ':'.join(paths) if current_pythonpath == '' else ':'.join([current_pythonpath] + paths)\n",
        "\n",
        "# Set the new PYTHONPATH in the environment\n",
        "os.environ['PYTHONPATH'] = new_pythonpath\n",
        "\n",
        "sys.path.append('/content/drive/MyDrive/Colab_env/lib/python3.10/site-packages')\n",
        "sys.path.append('/content/drive/MyDrive/Colab_env/benchmarks/speechbrain')"
      ],
      "metadata": {
        "id": "8wxWGYrCge6i"
      },
      "execution_count": 2,
      "outputs": []
    },
    {
      "cell_type": "code",
      "execution_count": null,
      "metadata": {
        "id": "bU5W4nvKyaaf"
      },
      "outputs": [],
      "source": [
        "# %%capture\n",
        "# %cd /content/drive/MyDrive/Colab_env\n",
        "# !git clone https://github.com/speechbrain/benchmarks.git\n",
        "# %cd benchmarks\n",
        "# !git submodule update --init --recursive\n",
        "# %cd speechbrain\n",
        "# !pip install -r requirements.txt\n",
        "# !pip install -e .\n",
        "# %cd /content/benchmarks/benchmarks/MOABB\n",
        "# !pip install -r ../../requirements.txt    # Install base dependencies\n",
        "# !pip install -r extra-requirements.txt    # Install additional dependencies\n",
        "\n",
        "# paths = [\n",
        "#     '/content/drive/MyDrive/Colab_env/lib/python3.10/site-packages',\n",
        "#     '/content/drive/MyDrive/Colab_env/benchmarks/speechbrain'\n",
        "# ]\n",
        "\n",
        "# # Get the current PYTHONPATH\n",
        "# current_pythonpath = os.environ.get('PYTHONPATH', '')\n",
        "\n",
        "# # Create a new PYTHONPATH including your custom paths\n",
        "# new_pythonpath = ':'.join(paths) if current_pythonpath == '' else ':'.join([current_pythonpath] + paths)\n",
        "\n",
        "# # Set the new PYTHONPATH in the environment\n",
        "# os.environ['PYTHONPATH'] = new_pythonpath"
      ]
    },
    {
      "cell_type": "code",
      "source": [
        "# train EEGNet for Motor Imagery using the BNCI2014001 dataset. Specifically, we will train the model using data from subject 0. The data recorded in session 1 of subject 0 will be used for testing, while all the other sessions will be used for training.\n",
        "# !python train.py hparams/MotorImagery/BNCI2014001/EEGNet.yaml --data_folder=eeg_data --cached_data_folder=eeg_pickled_data --output_folder=results/MotorImagery/BNCI2014001/ --target_subject_idx=0 --target_session_idx=1 --data_iterator_name=leave-one-session-out --device='cpu'"
      ],
      "metadata": {
        "id": "UO1nb9lxIwys"
      },
      "execution_count": null,
      "outputs": []
    },
    {
      "cell_type": "markdown",
      "source": [
        "###**Load the Inner speech database**"
      ],
      "metadata": {
        "id": "9PUW13b6Z3tJ"
      }
    },
    {
      "cell_type": "code",
      "source": [
        "%cd /content/drive/MyDrive/Colab_env/\n",
        "#@title Imports\n",
        "import mne\n",
        "import warnings\n",
        "import numpy as np\n",
        "from Inner_Speech_Dataset.Python_Processing.Data_extractions import  extract_data_from_subject\n",
        "from Inner_Speech_Dataset.Python_Processing.Data_processing import  select_time_window, transform_for_classificator\n",
        "\n",
        "np.random.seed(23)\n",
        "\n",
        "mne.set_log_level(verbose='warning') #to avoid info at terminal\n",
        "warnings.filterwarnings(action = \"ignore\", category = DeprecationWarning )\n",
        "warnings.filterwarnings(action = \"ignore\", category = FutureWarning )"
      ],
      "metadata": {
        "colab": {
          "base_uri": "https://localhost:8080/"
        },
        "id": "VoLKnyS2_N3g",
        "outputId": "3b17e563-8d8a-4155-8ef0-03ec7f70be5b"
      },
      "execution_count": 3,
      "outputs": [
        {
          "output_type": "stream",
          "name": "stdout",
          "text": [
            "/content/drive/MyDrive/Colab_env\n"
          ]
        }
      ]
    },
    {
      "cell_type": "code",
      "source": [
        "### Hyperparameters\n",
        "\n",
        "# The root dir have to point to the folder that cointains the database\n",
        "root_dir = \"/content/drive/MyDrive/Colab_env/eeg_data\"\n",
        "\n",
        "# Data Type\n",
        "datatype = \"EEG\"\n",
        "\n",
        "# Sampling rate\n",
        "fs = 256\n",
        "\n",
        "# Select the useful par of each trial. Time in seconds\n",
        "t_start = 1.5\n",
        "t_end = 3.5\n",
        "\n",
        "# Subject number\n",
        "N_S = 1   #[1 to 10]"
      ],
      "metadata": {
        "id": "8UWJcJA0YBR-"
      },
      "execution_count": 6,
      "outputs": []
    },
    {
      "cell_type": "code",
      "source": [
        "#@title Data extraction and processing\n",
        "\n",
        "# Load all trials for a sigle subject\n",
        "X, Y = extract_data_from_subject(root_dir, N_S, datatype)\n",
        "\n",
        "# Cut usefull time. i.e action interval\n",
        "X = select_time_window(X = X, t_start = t_start, t_end = t_end, fs = fs)"
      ],
      "metadata": {
        "id": "fdFp-Hj9drFw"
      },
      "execution_count": 7,
      "outputs": []
    },
    {
      "cell_type": "code",
      "source": [
        "print(\"Data shape: [trials x channels x samples]\")\n",
        "print(X.shape) # Trials, channels, samples\n",
        "\n",
        "print(\"Labels shape\")\n",
        "print(Y.shape) # Time stamp, class , condition, session"
      ],
      "metadata": {
        "id": "NDMBiYEydz6J",
        "colab": {
          "base_uri": "https://localhost:8080/"
        },
        "outputId": "ede79d95-eba1-4fcd-8fcf-30253b700760"
      },
      "execution_count": 8,
      "outputs": [
        {
          "output_type": "stream",
          "name": "stdout",
          "text": [
            "Data shape: [trials x channels x samples]\n",
            "(500, 128, 512)\n",
            "Labels shape\n",
            "(500, 4)\n"
          ]
        }
      ]
    },
    {
      "cell_type": "code",
      "source": [
        "# Conditions to compared\n",
        "Conditions = [[\"Inner\"],[\"Inner\"]]\n",
        "# The class for the above condition\n",
        "Classes    = [  [\"Up\"] ,[\"Down\"] ]"
      ],
      "metadata": {
        "id": "4faOjZjR0l_0"
      },
      "execution_count": 10,
      "outputs": []
    },
    {
      "cell_type": "code",
      "source": [
        "# Transform data and keep only the trials of interes\n",
        "X , Y =  transform_for_classificator(X, Y, Classes, Conditions)"
      ],
      "metadata": {
        "id": "6KV0iHqBW1z1"
      },
      "execution_count": 11,
      "outputs": []
    },
    {
      "cell_type": "code",
      "source": [
        "print(\"Final data shape\")\n",
        "print(X.shape)\n",
        "\n",
        "print(\"Final labels shape\")\n",
        "print(Y.shape)"
      ],
      "metadata": {
        "colab": {
          "base_uri": "https://localhost:8080/"
        },
        "id": "YUNGeLIVW5Ka",
        "outputId": "7ed55cff-744e-4ede-f812-24a8f8daceb9"
      },
      "execution_count": 12,
      "outputs": [
        {
          "output_type": "stream",
          "name": "stdout",
          "text": [
            "Final data shape\n",
            "(100, 128, 512)\n",
            "Final labels shape\n",
            "(100,)\n"
          ]
        }
      ]
    },
    {
      "cell_type": "code",
      "source": [],
      "metadata": {
        "id": "J2bP_HWfW67w"
      },
      "execution_count": null,
      "outputs": []
    }
  ]
}